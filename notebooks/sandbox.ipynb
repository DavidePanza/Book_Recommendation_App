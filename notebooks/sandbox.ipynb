{
 "cells": [
  {
   "cell_type": "markdown",
   "id": "9eaf2039",
   "metadata": {},
   "source": [
    "## Inspect Data"
   ]
  },
  {
   "cell_type": "code",
   "execution_count": null,
   "id": "985dcb62",
   "metadata": {},
   "outputs": [],
   "source": [
    "url = f\"https://www.googleapis.com/books/v1/volumes\"\n",
    "\n",
    "params = {\n",
    "    'q': f'subject:{category}',\n",
    "    'startIndex': start_index,\n",
    "    'maxResults': 40,  # Max per request\n",
    "    'printType': 'books',\n",
    "    'langRestrict': 'en'\n",
    "}\n",
    "\n",
    "response = requests.get(url, params=params)\n",
    "books = response.json().get('items', [])"
   ]
  }
 ],
 "metadata": {
  "language_info": {
   "name": "python"
  }
 },
 "nbformat": 4,
 "nbformat_minor": 5
}
