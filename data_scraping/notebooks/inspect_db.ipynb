{
 "cells": [
  {
   "cell_type": "code",
   "execution_count": 19,
   "id": "712575e0",
   "metadata": {},
   "outputs": [],
   "source": [
    "import sqlite3\n",
    "import pandas as pd"
   ]
  },
  {
   "cell_type": "code",
   "execution_count": 20,
   "id": "f2971e37",
   "metadata": {},
   "outputs": [
    {
     "name": "stdout",
     "output_type": "stream",
     "text": [
      "All data in processed_authors table:\n",
      "==================================================\n",
      "Row 1: (0, 'Estelle Laure', '2025-08-27 15:03:42.906791', 11, 10, 1)\n",
      "Row 2: (1, 'Diana Velez', '2025-08-27 15:03:46.937104', 2, 2, 1)\n",
      "Row 3: (2, 'Brod, Max', '2025-08-27 15:03:53.023293', 0, 0, 0)\n",
      "Row 4: (3, 'Kate Alcott', '2025-08-27 15:03:58.873926', 6, 4, 1)\n",
      "Row 5: (4, 'Kirby Larson', '2025-08-27 15:04:04.931603', 36, 29, 1)\n",
      "Row 6: (5, 'Sam Siciliano', '2025-08-27 15:18:43.715042', 15, 12, 1)\n",
      "Row 7: (6, 'George Crenshaw', '2025-08-27 15:18:51.253853', 5, 4, 1)\n",
      "Row 8: (7, 'Jennifer Haymore', '2025-08-27 15:18:53.014622', 25, 23, 1)\n",
      "Row 9: (8, 'Reyna Grande', '2025-08-27 15:18:53.838845', 8, 5, 1)\n",
      "Row 10: (9, 'Maureen Tan', '2025-08-27 15:18:55.492897', 4, 4, 1)\n",
      "Row 11: (10, 'Sharon Ihle', '2025-08-28 09:06:23.395814', 12, 9, 1)\n",
      "Row 12: (11, 'James Ellroy', '2025-08-28 09:06:26.883462', 41, 30, 1)\n",
      "Row 13: (12, 'Randy Ribay', '2025-08-28 09:06:28.923831', 8, 7, 1)\n",
      "Row 14: (13, 'W. R. Philbrick', '2025-08-28 09:06:29.544434', 3, 3, 1)\n",
      "Row 15: (14, 'Jaclyn Reding', '2025-08-28 09:06:31.642992', 16, 12, 1)\n"
     ]
    }
   ],
   "source": [
    "conn = sqlite3.connect(\"../data/output/books_metadata.db\")\n",
    "\n",
    "# Simple query to see all data\n",
    "cursor = conn.execute(\"SELECT * FROM processed_authors;\")\n",
    "rows = cursor.fetchall()\n",
    "df = pd.DataFrame(rows, columns=[description[0] for description in cursor.description])\n",
    "\n",
    "print(\"All data in processed_authors table:\")\n",
    "print(\"=\" * 50)\n",
    "\n",
    "for i, row in enumerate(rows, 1):\n",
    "    print(f\"Row {i}: {row}\")\n",
    "\n",
    "conn.close()\n"
   ]
  },
  {
   "cell_type": "code",
   "execution_count": 18,
   "id": "459fcfb3",
   "metadata": {},
   "outputs": [
    {
     "data": {
      "application/vnd.microsoft.datawrangler.viewer.v0+json": {
       "columns": [
        {
         "name": "index",
         "rawType": "int64",
         "type": "integer"
        },
        {
         "name": "processing_order",
         "rawType": "int64",
         "type": "integer"
        },
        {
         "name": "author_name",
         "rawType": "object",
         "type": "string"
        },
        {
         "name": "processed_date",
         "rawType": "object",
         "type": "string"
        },
        {
         "name": "raw_books_count",
         "rawType": "int64",
         "type": "integer"
        },
        {
         "name": "deduplicated_books_count",
         "rawType": "int64",
         "type": "integer"
        },
        {
         "name": "books_found",
         "rawType": "int64",
         "type": "integer"
        }
       ],
       "ref": "404c3b86-cee6-4c73-bf79-4410543c0ae3",
       "rows": [
        [
         "0",
         "0",
         "Estelle Laure",
         "2025-08-27 15:03:42.906791",
         "11",
         "10",
         "1"
        ],
        [
         "1",
         "1",
         "Diana Velez",
         "2025-08-27 15:03:46.937104",
         "2",
         "2",
         "1"
        ],
        [
         "2",
         "2",
         "Brod, Max",
         "2025-08-27 15:03:53.023293",
         "0",
         "0",
         "0"
        ],
        [
         "3",
         "3",
         "Kate Alcott",
         "2025-08-27 15:03:58.873926",
         "6",
         "4",
         "1"
        ],
        [
         "4",
         "4",
         "Kirby Larson",
         "2025-08-27 15:04:04.931603",
         "36",
         "29",
         "1"
        ],
        [
         "5",
         "5",
         "Sam Siciliano",
         "2025-08-27 15:18:43.715042",
         "15",
         "12",
         "1"
        ],
        [
         "6",
         "6",
         "George Crenshaw",
         "2025-08-27 15:18:51.253853",
         "5",
         "4",
         "1"
        ],
        [
         "7",
         "7",
         "Jennifer Haymore",
         "2025-08-27 15:18:53.014622",
         "25",
         "23",
         "1"
        ],
        [
         "8",
         "8",
         "Reyna Grande",
         "2025-08-27 15:18:53.838845",
         "8",
         "5",
         "1"
        ],
        [
         "9",
         "9",
         "Maureen Tan",
         "2025-08-27 15:18:55.492897",
         "4",
         "4",
         "1"
        ]
       ],
       "shape": {
        "columns": 6,
        "rows": 10
       }
      },
      "text/html": [
       "<div>\n",
       "<style scoped>\n",
       "    .dataframe tbody tr th:only-of-type {\n",
       "        vertical-align: middle;\n",
       "    }\n",
       "\n",
       "    .dataframe tbody tr th {\n",
       "        vertical-align: top;\n",
       "    }\n",
       "\n",
       "    .dataframe thead th {\n",
       "        text-align: right;\n",
       "    }\n",
       "</style>\n",
       "<table border=\"1\" class=\"dataframe\">\n",
       "  <thead>\n",
       "    <tr style=\"text-align: right;\">\n",
       "      <th></th>\n",
       "      <th>processing_order</th>\n",
       "      <th>author_name</th>\n",
       "      <th>processed_date</th>\n",
       "      <th>raw_books_count</th>\n",
       "      <th>deduplicated_books_count</th>\n",
       "      <th>books_found</th>\n",
       "    </tr>\n",
       "  </thead>\n",
       "  <tbody>\n",
       "    <tr>\n",
       "      <th>0</th>\n",
       "      <td>0</td>\n",
       "      <td>Estelle Laure</td>\n",
       "      <td>2025-08-27 15:03:42.906791</td>\n",
       "      <td>11</td>\n",
       "      <td>10</td>\n",
       "      <td>1</td>\n",
       "    </tr>\n",
       "    <tr>\n",
       "      <th>1</th>\n",
       "      <td>1</td>\n",
       "      <td>Diana Velez</td>\n",
       "      <td>2025-08-27 15:03:46.937104</td>\n",
       "      <td>2</td>\n",
       "      <td>2</td>\n",
       "      <td>1</td>\n",
       "    </tr>\n",
       "    <tr>\n",
       "      <th>2</th>\n",
       "      <td>2</td>\n",
       "      <td>Brod, Max</td>\n",
       "      <td>2025-08-27 15:03:53.023293</td>\n",
       "      <td>0</td>\n",
       "      <td>0</td>\n",
       "      <td>0</td>\n",
       "    </tr>\n",
       "    <tr>\n",
       "      <th>3</th>\n",
       "      <td>3</td>\n",
       "      <td>Kate Alcott</td>\n",
       "      <td>2025-08-27 15:03:58.873926</td>\n",
       "      <td>6</td>\n",
       "      <td>4</td>\n",
       "      <td>1</td>\n",
       "    </tr>\n",
       "    <tr>\n",
       "      <th>4</th>\n",
       "      <td>4</td>\n",
       "      <td>Kirby Larson</td>\n",
       "      <td>2025-08-27 15:04:04.931603</td>\n",
       "      <td>36</td>\n",
       "      <td>29</td>\n",
       "      <td>1</td>\n",
       "    </tr>\n",
       "    <tr>\n",
       "      <th>5</th>\n",
       "      <td>5</td>\n",
       "      <td>Sam Siciliano</td>\n",
       "      <td>2025-08-27 15:18:43.715042</td>\n",
       "      <td>15</td>\n",
       "      <td>12</td>\n",
       "      <td>1</td>\n",
       "    </tr>\n",
       "    <tr>\n",
       "      <th>6</th>\n",
       "      <td>6</td>\n",
       "      <td>George Crenshaw</td>\n",
       "      <td>2025-08-27 15:18:51.253853</td>\n",
       "      <td>5</td>\n",
       "      <td>4</td>\n",
       "      <td>1</td>\n",
       "    </tr>\n",
       "    <tr>\n",
       "      <th>7</th>\n",
       "      <td>7</td>\n",
       "      <td>Jennifer Haymore</td>\n",
       "      <td>2025-08-27 15:18:53.014622</td>\n",
       "      <td>25</td>\n",
       "      <td>23</td>\n",
       "      <td>1</td>\n",
       "    </tr>\n",
       "    <tr>\n",
       "      <th>8</th>\n",
       "      <td>8</td>\n",
       "      <td>Reyna Grande</td>\n",
       "      <td>2025-08-27 15:18:53.838845</td>\n",
       "      <td>8</td>\n",
       "      <td>5</td>\n",
       "      <td>1</td>\n",
       "    </tr>\n",
       "    <tr>\n",
       "      <th>9</th>\n",
       "      <td>9</td>\n",
       "      <td>Maureen Tan</td>\n",
       "      <td>2025-08-27 15:18:55.492897</td>\n",
       "      <td>4</td>\n",
       "      <td>4</td>\n",
       "      <td>1</td>\n",
       "    </tr>\n",
       "  </tbody>\n",
       "</table>\n",
       "</div>"
      ],
      "text/plain": [
       "   processing_order       author_name              processed_date  \\\n",
       "0                 0     Estelle Laure  2025-08-27 15:03:42.906791   \n",
       "1                 1       Diana Velez  2025-08-27 15:03:46.937104   \n",
       "2                 2         Brod, Max  2025-08-27 15:03:53.023293   \n",
       "3                 3       Kate Alcott  2025-08-27 15:03:58.873926   \n",
       "4                 4      Kirby Larson  2025-08-27 15:04:04.931603   \n",
       "5                 5     Sam Siciliano  2025-08-27 15:18:43.715042   \n",
       "6                 6   George Crenshaw  2025-08-27 15:18:51.253853   \n",
       "7                 7  Jennifer Haymore  2025-08-27 15:18:53.014622   \n",
       "8                 8      Reyna Grande  2025-08-27 15:18:53.838845   \n",
       "9                 9       Maureen Tan  2025-08-27 15:18:55.492897   \n",
       "\n",
       "   raw_books_count  deduplicated_books_count  books_found  \n",
       "0               11                        10            1  \n",
       "1                2                         2            1  \n",
       "2                0                         0            0  \n",
       "3                6                         4            1  \n",
       "4               36                        29            1  \n",
       "5               15                        12            1  \n",
       "6                5                         4            1  \n",
       "7               25                        23            1  \n",
       "8                8                         5            1  \n",
       "9                4                         4            1  "
      ]
     },
     "execution_count": 18,
     "metadata": {},
     "output_type": "execute_result"
    }
   ],
   "source": [
    "df"
   ]
  },
  {
   "cell_type": "code",
   "execution_count": null,
   "id": "6fb1f1cf",
   "metadata": {},
   "outputs": [],
   "source": []
  }
 ],
 "metadata": {
  "kernelspec": {
   "display_name": "dbt_env",
   "language": "python",
   "name": "python3"
  },
  "language_info": {
   "codemirror_mode": {
    "name": "ipython",
    "version": 3
   },
   "file_extension": ".py",
   "mimetype": "text/x-python",
   "name": "python",
   "nbconvert_exporter": "python",
   "pygments_lexer": "ipython3",
   "version": "3.13.5"
  }
 },
 "nbformat": 4,
 "nbformat_minor": 5
}
